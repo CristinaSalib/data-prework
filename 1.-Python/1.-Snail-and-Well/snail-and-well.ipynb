{
 "cells": [
  {
   "cell_type": "markdown",
   "metadata": {},
   "source": [
    "<img src=\"https://bit.ly/2VnXWr2\" width=\"100\" align=\"left\">"
   ]
  },
  {
   "cell_type": "markdown",
   "metadata": {},
   "source": [
    "# The Snail and the Well\n",
    "\n",
    "A snail falls at the bottom of a 125 cm well. Each day the snail rises 30 cm. But at night, while sleeping, slides 20 cm because the walls are wet. How many days does it take for the snail to escape the well?\n",
    "\n",
    "**Hint**: The snail gets out of the well when it surpasses the 125cm of height.\n",
    "\n",
    "## Tools\n",
    "\n",
    "1. Loop: **while**\n",
    "2. Conditional statements: **if-else**\n",
    "3. Function: **print()**\n",
    "\n",
    "## Tasks\n",
    "\n",
    "#### 1. Assign the challenge data to variables with representative names: `well_height`, `daily_distance`, `nightly_distance` and `snail_position`."
   ]
  },
  {
   "cell_type": "code",
   "execution_count": 2,
   "metadata": {},
   "outputs": [],
   "source": [
    "well_height = 125\n",
    "daily_distance_cm = 30\n",
    "nightly_fall_cm = 20\n",
    "advance_cm = daily_distance_cm - nightly_fall_cm\n",
    "snail_position = 0"
   ]
  },
  {
   "cell_type": "markdown",
   "metadata": {},
   "source": [
    "#### 2. Create a variable `days` to keep count of the days that pass until the snail escapes the well. "
   ]
  },
  {
   "cell_type": "code",
   "execution_count": 3,
   "metadata": {},
   "outputs": [],
   "source": [
    "day = 0"
   ]
  },
  {
   "cell_type": "markdown",
   "metadata": {},
   "source": [
    "#### 3. Find the solution to the challenge using the variables defined above. "
   ]
  },
  {
   "cell_type": "code",
   "execution_count": 4,
   "metadata": {},
   "outputs": [
    {
     "name": "stdout",
     "output_type": "stream",
     "text": [
      "Poor snail is at the bottom of the well...\n",
      "Snail is still climbing...\n",
      "Snail is still climbing...\n",
      "Snail is still climbing...\n",
      "Snail is still climbing...\n",
      "Snail is still climbing...\n",
      "Snail is still climbing...\n",
      "Snail is still climbing...\n",
      "Snail is still climbing...\n",
      "Snail is still climbing...\n",
      "Snail is still climbing...\n",
      "Snail is still climbing...\n",
      "Snail is still climbing...\n",
      "Snail is still climbing...\n",
      "Snail is out! It took 13 days!\n"
     ]
    }
   ],
   "source": [
    "print('Poor snail is at the bottom of the well...')\n",
    "while snail_position < well_height:\n",
    "    print('Snail is still climbing...')\n",
    "    snail_position += advance_cm\n",
    "    day += 1\n",
    "\n",
    "print(f'Snail is out! It took {day} days!')"
   ]
  },
  {
   "cell_type": "markdown",
   "metadata": {},
   "source": [
    "#### 4. Print the solution."
   ]
  },
  {
   "cell_type": "code",
   "execution_count": 5,
   "metadata": {},
   "outputs": [
    {
     "name": "stdout",
     "output_type": "stream",
     "text": [
      "Snail is out! It took 13 days!\n"
     ]
    }
   ],
   "source": [
    "print(f'Snail is out! It took {day} days!')"
   ]
  },
  {
   "cell_type": "markdown",
   "metadata": {},
   "source": [
    "## Bonus\n",
    "The distance traveled by the snail each day is now defined by a list.\n",
    "```\n",
    "advance_cm = [30, 21, 33, 77, 44, 45, 23, 45, 12, 34, 55]\n",
    "```\n",
    "On the first day, the snail rises 30cm but during the night it slides 20cm. On the second day, the snail rises 21cm but during the night it slides 20cm, and so on. \n",
    "\n",
    "#### 1. How many days does it take for the snail to escape the well?\n",
    "Follow the same guidelines as in the previous challenge.\n",
    "\n",
    "**Hint**: Remember that the snail gets out of the well when it surpasses the 125cm of height."
   ]
  },
  {
   "cell_type": "code",
   "execution_count": 6,
   "metadata": {},
   "outputs": [
    {
     "name": "stdout",
     "output_type": "stream",
     "text": [
      "Clumsy snail fell again...\n",
      "Snail still climbing...\n",
      "Snail still climbing...\n",
      "Snail still climbing...\n",
      "Snail still climbing...\n",
      "Snail still climbing...\n",
      "Snail still climbing...\n",
      "Snail is out!\n",
      "It took 6 days\n"
     ]
    }
   ],
   "source": [
    "advance_cm = [30, 21, 33, 77, 44, 45, 23, 45, 12, 34, 55]\n",
    "well_height = 125\n",
    "nightly_fall_cm = 20\n",
    "snail_position = 0\n",
    "day = 0\n",
    "\n",
    "print(\"Clumsy snail fell again...\")\n",
    "\n",
    "for daily_distance_cm in advance_cm:\n",
    "        snail_position += (daily_distance_cm - nightly_fall_cm)\n",
    "        day += 1\n",
    "        print(\"Snail still climbing...\")\n",
    "        if snail_position >= well_height:\n",
    "            break\n",
    "print(\"Snail is out!\")\n",
    "print(f\"It took {day} days\")"
   ]
  },
  {
   "cell_type": "markdown",
   "metadata": {},
   "source": [
    "#### 2. What is its maximum displacement in one day? And its minimum? Calculate the displacement using only the travel distance of the days used to get out of the well. \n",
    "**Hint**: Remember that displacement means the total distance risen taking into account that the snail slides at night.  "
   ]
  },
  {
   "cell_type": "code",
   "execution_count": 7,
   "metadata": {},
   "outputs": [
    {
     "name": "stdout",
     "output_type": "stream",
     "text": [
      "The maximum displacement in one day is 57 cm.\n",
      "The minimum displacement in one day is 1 cm.\n"
     ]
    }
   ],
   "source": [
    "advance_cm = [30, 21, 33, 77, 44, 45, 23, 45, 12, 34, 55]\n",
    "nightly_fall_cm = 20\n",
    "max_displacement = max(advance_cm[:6]) - nightly_fall_cm\n",
    "min_displacement = min(advance_cm[:6]) - nightly_fall_cm\n",
    "print(f\"The maximum displacement in one day is {max_displacement} cm.\")\n",
    "print(f\"The minimum displacement in one day is {min_displacement} cm.\")"
   ]
  },
  {
   "cell_type": "markdown",
   "metadata": {},
   "source": [
    "#### 3. What is its average progress? Take into account the snail slides at night."
   ]
  },
  {
   "cell_type": "code",
   "execution_count": 8,
   "metadata": {},
   "outputs": [
    {
     "name": "stdout",
     "output_type": "stream",
     "text": [
      "The average progress is 21cm.\n"
     ]
    }
   ],
   "source": [
    "advance_cm = [30, 21, 33, 77, 44, 45, 23, 45, 12, 34, 55]\n",
    "nightly_fall_cm = 20\n",
    "total_progress = sum(advance_cm[:6]) - (nightly_fall_cm * len(advance_cm[:6]))\n",
    "average_progress = total_progress / len(advance_cm[:6])\n",
    "print(f\"The average progress is {int(average_progress)}cm.\")"
   ]
  },
  {
   "cell_type": "markdown",
   "metadata": {},
   "source": [
    "#### 4. What is the standard deviation of its displacement? Take into account the snail slides at night."
   ]
  },
  {
   "cell_type": "code",
   "execution_count": null,
   "metadata": {},
   "outputs": [],
   "source": [
    "\n"
   ]
  }
 ],
 "metadata": {
  "kernelspec": {
   "display_name": "Python 3",
   "language": "python",
   "name": "python3"
  },
  "language_info": {
   "codemirror_mode": {
    "name": "ipython",
    "version": 3
   },
   "file_extension": ".py",
   "mimetype": "text/x-python",
   "name": "python",
   "nbconvert_exporter": "python",
   "pygments_lexer": "ipython3",
   "version": "3.9.1"
  }
 },
 "nbformat": 4,
 "nbformat_minor": 2
}
